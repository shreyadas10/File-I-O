{
  "nbformat": 4,
  "nbformat_minor": 0,
  "metadata": {
    "colab": {
      "provenance": []
    },
    "kernelspec": {
      "name": "python3",
      "display_name": "Python 3"
    },
    "language_info": {
      "name": "python"
    }
  },
  "cells": [
    {
      "cell_type": "markdown",
      "source": [
        "1. What is the difference between interpreted and compiled languages ?\n",
        "\n",
        "-> The main difference between compiled and interpreted languages is when the code is translated into machine code.\n",
        "\n",
        "->Compiled languages :\n",
        "\n",
        "- The source code is converted into machine code once, and then the executable can be run without the source code\n",
        "- Compiled code is optimized for the target machine, so it runs faster\n",
        "- The source code is transformed into a format that's harder to reverse engineer\n",
        "- Examples of compiled languages include C, C++ etc\n",
        "\n",
        "-> Interpreted languages :\n",
        "- The code is compiled into an intermediary form each time the program is run\n",
        "- Interpreted code runs on any architecture because it's compiled into an intermediary form\n",
        "- Interpreted languages are more flexible, and often offer features like dynamic typing\n",
        "- Examples of interpreted languages include JavaScript,  Python etc."
      ],
      "metadata": {
        "id": "N9o1bh6fRuGx"
      }
    },
    {
      "cell_type": "markdown",
      "source": [
        "2. What is exception handling in Python ?\n",
        "\n",
        "-> Exception handling in Python is a technique for managing errors that occur while a program is running. It allows programs to continue running or exit gracefully when an error occurs.\n",
        "\n",
        "->Why is exception handling important?\n",
        "- Exception handling helps improve the reliability and user experience of a program.\n",
        "- It allows developers to respond to errors instead of the program crashing.\n",
        "- It helps developers identify and fix issues quickly.\n",
        "\n",
        "-> Examples of exceptions :\n",
        "- Dividing a number by zero\n",
        "- Adding two incompatible types\n",
        "- Trying to access a non-existent index of a sequence\n",
        "- Accessing a file that does not exist"
      ],
      "metadata": {
        "id": "-K9yasuaSdpa"
      }
    },
    {
      "cell_type": "markdown",
      "source": [
        "3. What is the purpose of the finally block in exception handling ?\n",
        "\n",
        "-> The finally block in exception handling serves several purposes:\n",
        "\n",
        "-> Ensuring Resource Cleanup :     \n",
        "- The primary purpose of the finally block is to ensure that resources, such as files, network connections, or database connections, are properly closed or released, regardless of whether an exception was thrown or not.\n",
        "\n",
        "-> Executing Critical Code  :      \n",
        "-  The finally block is also used to execute critical code that must run, even if an exception occurs. This can include tasks like:\n",
        "\n",
        "- Logging important information\n",
        "- Sending notifications\n",
        "- Rolling back transactions\n",
        "- Releasing locks\n",
        "\n",
        "-> Providing a Safety Net\n",
        "\n",
        "- The finally block acts as a safety net, catching any unexpected exceptions that might have been missed by the catch blocks. This ensures that the program can exit cleanly and avoid unexpected behavior.\n"
      ],
      "metadata": {
        "id": "lBP4-zxDTHnq"
      }
    },
    {
      "cell_type": "markdown",
      "source": [
        "4. What is logging in Python ?\n",
        "\n",
        "-> Python logging is a module that tracks events that occur while a program is running. It's a useful tool for debugging, troubleshooting, and monitoring a program.\n",
        "\n",
        "-> What does logging in Python do?\n",
        "- Records information about errors, warnings, and other events\n",
        "- Communicates the severity of an event using unique log levels\n",
        "- Helps developers pinpoint issues and understand what led to errors\n",
        "- Allows developers to detect anomalies and ensure everything is running smoothly"
      ],
      "metadata": {
        "id": "l5M6B-mCUAQ6"
      }
    },
    {
      "cell_type": "markdown",
      "source": [
        "5. What is the significance of the __ del __ method in Python ?\n",
        "\n",
        "-> The __ del __ method in Python is a special method that is automatically called when an object is about to be destroyed. This method is also known as the destructor.\n",
        "-> The significance of the __ del __ method is:\n",
        "-  Resource Cleanup: The __ del __ method is used to release any system resources, such as file handles, network connections, or database connections, that were allocated by the object.\n",
        "\n",
        "- Memory Deallocation: Although Python's garbage collector automatically reclaims memory occupied by objects that are no longer in use, the __ del __ method can be used to perform any necessary cleanup before the object's memory is deallocated.\n",
        "\n",
        "-  Finalization: The __ del __ method can be used to perform any finalization tasks, such as logging, notification, or other activities that need to occur before the object is destroyed."
      ],
      "metadata": {
        "id": "QssXRRu8Udk5"
      }
    },
    {
      "cell_type": "markdown",
      "source": [
        "6. What is the difference between import and from ... import in Python0\n",
        "\n",
        "-> In Python, import and from ... import are two different ways to import modules or functions from other modules. Here's the difference:\n",
        "\n",
        "-> Import:\n",
        "\n",
        "- When using the import statement, we import the entire module, and we need to use the module name to access its functions, classes, or variables.\n",
        "\n",
        "- Example:\n",
        "\n",
        "import math   \n",
        "print(math.pi)\n",
        "\n",
        "- In this example, we import the entire math module, and then use the math. prefix to access the pi constant.\n",
        "\n",
        "-> From ... Import\n",
        "\n",
        "- When we use the from ... import statement, we import specific functions, classes, or variables from a module, and we can use them directly without the module name prefix.\n",
        "\n",
        "Example:\n",
        "\n",
        "from math import pi\n",
        "print(pi)\n",
        "\n",
        "In this example, we import only the pi constant from the math module, and we can use it directly without the math. prefix.\n"
      ],
      "metadata": {
        "id": "krH0mxYuVIOq"
      }
    },
    {
      "cell_type": "markdown",
      "source": [
        "7. How can you handle multiple exceptions in Python ?\n",
        "\n",
        "->  In Python, multiple exceptions are handled using the try and except blocks. The try block contains the code that might throw an exception, and the except block contains the code that runs if an exception occurs.    \n",
        "-> To handle multiple exceptions:\n",
        "- Use multiple except blocks for different types of exceptions\n",
        "-Group exceptions into a tuple in a single except block\n",
        "Deal with each exception individually"
      ],
      "metadata": {
        "id": "vm0G7UtPWHhq"
      }
    },
    {
      "cell_type": "markdown",
      "source": [
        "8. What is the purpose of the with statement when handling files in Python ?\n",
        "-> The with statement in Python is used to manage resources, such as files, connections, or locks, that need to be cleaned up after use. When handling files, the with statement serves several purposes:\n",
        "\n",
        "-  Ensures file closure: The with statement automatically closes the file when you're done with it, regardless of whether an exception is thrown or not. This prevents file descriptor leaks and ensures that system resources are released.\n",
        "-  Provides a context: The with statement creates a runtime context for the file, which allows you to perform operations on the file within that context. When the context is exited, the file is automatically closed.\n",
        "-  Handles exceptions: If an exception occurs within the with block, the file is still closed, ensuring that resources are released and the file is not left in an inconsistent state.\n",
        "-  Improves code readability: The with statement makes your code more readable by clearly defining the scope of the file operations and ensuring that the file is properly closed."
      ],
      "metadata": {
        "id": "JzLYuRr1Wjfp"
      }
    },
    {
      "cell_type": "markdown",
      "source": [
        "9. What is the difference between multithreading and multiprocessing ?\n",
        "\n",
        "-> Multithreading and multiprocessing are two approaches to achieve concurrency in programming. While they share some similarities, they have distinct differences:\n",
        "\n",
        "-> Multithreading  :     \n",
        "\n",
        "- Multiple threads within a process: Multithreading involves creating multiple threads within a single process. These threads share the same memory space and resources.\n",
        "-  Concurrency: Multithreading allows for concurrency, where multiple threads can execute simultaneously, improving responsiveness and system utilization.\n",
        "-  Lightweight: Creating threads is relatively lightweight, as it doesn't require creating a new process.\n",
        "-  Communication: Threads can communicate with each other easily, as they share the same memory space.\n",
        "\n",
        "-> Multiprocessing :      \n",
        "\n",
        "-  Multiple processes: Multiprocessing involves creating multiple processes, each with its own memory space and resources.\n",
        "-  Concurrency: Multiprocessing also allows for concurrency, where multiple processes can execute simultaneously, improving system utilization.\n",
        "-  Heavyweight: Creating processes is more heavyweight than creating threads, as it requires creating a new memory space and resources.\n",
        "-  Communication: Processes can communicate with each other through inter-process communication (IPC) mechanisms, such as pipes, queues, or shared memory.\n",
        "\n",
        "-> Key differences :      \n",
        "\n",
        "- Memory sharing: Threads share the same memory space, while processes have their own memory space.\n",
        "-  Creation overhead: Creating threads is lighter than creating processes.\n",
        "- Communication: Threads can communicate more easily than processes.\n",
        "-  Concurrency: Both multithreading and multiprocessing can achieve concurrency, but multiprocessing can take advantage of multiple CPU cores.\n"
      ],
      "metadata": {
        "id": "jXYAZq9LW6oi"
      }
    },
    {
      "cell_type": "markdown",
      "source": [
        "10. What are the advantages of using logging in a program?\n",
        "\n",
        "-> Using logging in a program provides significant advantages for debugging and monitoring applications by creating a record of events, errors, and warnings, allowing developers to easily identify and fix issues, understand program behavior, and track system performance, especially when troubleshooting complex problems\n",
        "-> Key advantages of logging:\n",
        "\n",
        "- Improved debugging:    \n",
        "Logs provide detailed information about program execution, including function calls, variable values, and error messages, making it easier to pinpoint the root cause of bugs and issues.\n",
        "- System monitoring:     \n",
        "By logging key events and metrics, you can track system health, identify performance bottlenecks, and monitor application behavior in real-time.\n",
        "- Security auditing:    \n",
        "Logging user actions and system events can help detect suspicious activity and potential security breaches.\n",
        "- Application analysis:  \n",
        "Logs can be used to analyze user behavior patterns, identify trends, and inform future development decisions.\n"
      ],
      "metadata": {
        "id": "26-WZPOuXvoB"
      }
    },
    {
      "cell_type": "markdown",
      "source": [
        "11. What is memory management in Python ?\n",
        "\n",
        "-> Memory management in Python is the process of allocating and freeing up memory for programs to run efficiently. Python automatically manages memory, which makes it different from other programming languages.\n",
        "\n",
        "-> How does Python manage memory?\n",
        "\n",
        "- Memory allocation :      \n",
        "Python uses static and dynamic memory allocation. Static memory allocation is fixed, while dynamic memory allocation is flexible and reusable.\n",
        "- Memory pools :        \n",
        "Python uses memory pools to manage memory for small objects. Memory pools are pre-allocated chunks of memory that are organized by object size.\n",
        "- Garbage collection :       \n",
        "Python's garbage collector automatically frees up memory when an object's reference count reaches zero."
      ],
      "metadata": {
        "id": "bDvlTR_FYQiT"
      }
    },
    {
      "cell_type": "markdown",
      "source": [
        "12. What are the basic steps involved in exception handling in Python?\n",
        "\n",
        "-> In Python, the basic steps for exception handling involve using a \"try\" block to execute code that might raise an exception, and an \"except\" block to handle the exception if it occurs; you can also optionally use \"else\" to execute code if no exception is raised, and \"finally\" to run code regardless of whether an exception happened or not :    \n",
        "\n",
        "-> Key components:    \n",
        "- \"try\" block:      \n",
        "This block contains the code that might potentially cause an error or raise an exception.\n",
        "- \"except\" block:      \n",
        "If an exception is raised within the \"try\" block, the code inside the \"except\" block will be executed to handle the error.\n",
        "- \"else\" block (optional):     \n",
        "This block is executed only if no exception occurs within the \"try\" block.\n",
        "- \"finally\" block (optional):    \n",
        "This block will always be executed, even if an exception occurs, and is often used for cleanup tasks like closing files.\n"
      ],
      "metadata": {
        "id": "akHsu5n3a07a"
      }
    },
    {
      "cell_type": "markdown",
      "source": [
        "13. Why is memory management important in Python ?\n",
        "\n",
        "-> Memory management in Python is important because it helps programs run efficiently and prevents memory leaks. Memory management involves allocating, freeing, and coordinating memory so that programs can access resources smoothly.     \n",
        "-> Benefits of memory management :    \n",
        "- Faster processing: Memory-efficient programs run faster because they use less RAM.\n",
        "- Less resource usage: Memory-efficient programs use fewer resources, which can help speed up disk access.\n",
        "- Prevents memory leaks: Memory leaks can cause RAM usage to increase over time, which can slow down your device"
      ],
      "metadata": {
        "id": "FgqR-9UubUII"
      }
    },
    {
      "cell_type": "markdown",
      "source": [
        "14. What is the role of try and except in exception handling ?\n",
        "\n",
        "->  In programming, particularly in languages like Python, \"try\" and \"except\" are used together to create a block of code that attempts to execute a potentially risky operation (\"try block\"), and if an error (exception) occurs during that execution, the code within the \"except\" block is executed to handle the error gracefully, preventing the program from crashing unexpectedly; essentially, \"try\" is where you test for potential errors, and \"except\" is where you define how to handle those errors if they arise.\n",
        "-> Key points about \"try\" and \"except\":\n",
        "- Try block: This is where the code that might raise an exception is placed.\n",
        "- Except block: If an exception occurs within the \"try\" block, the code inside the \"except\" block is executed."
      ],
      "metadata": {
        "id": "GY0pnP9cbrMX"
      }
    },
    {
      "cell_type": "markdown",
      "source": [
        "15. How does Python's garbage collection system work?\n",
        "-> Python's garbage collection is a system that automatically removes unused objects from memory. It uses reference counting and generational garbage collection to manage memory.\n",
        "\n",
        "->How it works:\n",
        "- Reference counting:\n",
        "\n",
        "Python keeps track of how many references an object has. When an object's reference count reaches zero, the garbage collector removes it from memory.\n",
        "- Generational garbage collection:\n",
        "\n",
        "Python divides memory into generations, such as Generation 0 (young), Generation 1 (middle-aged), and Generation 2 (old). Objects start in Generation 0 and are promoted to the next generation if they survive a garbage collection cycle.\n",
        "- Mark-and-sweep:\n",
        "\n",
        "Python uses an algorithm called mark-and-sweep to identify which objects are reachable and which are not."
      ],
      "metadata": {
        "id": "Achn8P7wcBqe"
      }
    },
    {
      "cell_type": "markdown",
      "source": [
        "16. What is the purpose of the else block in exception handling?   \n",
        "\n",
        "-> In Python, the else block in exception handling executes code when there are no exceptions raised in the try block. It's useful for performing specific actions when the try block succeeds.\n",
        "\n",
        "->  Explanation:    \n",
        "- The try block tests a block of code for errors.\n",
        "- The except block handles errors that occur in the try block.\n",
        "- The else block executes code if there are no errors in the try block.\n",
        "- The finally block executes code regardless of whether an exception occurred.\n",
        "\n",
        "-> When to use the else block:\n",
        "-  Use the else block to execute additional code if the try block succeeds.\n",
        "- Use the else block to avoid catching an unexpected error."
      ],
      "metadata": {
        "id": "0m_OjZFAckmY"
      }
    },
    {
      "cell_type": "markdown",
      "source": [
        "17. What are the common logging levels in Python?\n",
        "-> In Python, the logging module provides several logging levels that allow you to categorize and filter log messages based on their severity. Here are the common logging levels in Python, listed in order of increasing severity:\n",
        "\n",
        "-  DEBUG: Detailed information, typically of interest only when diagnosing problems.\n",
        "-  INFO: Confirmation that things are working as expected.\n",
        "- WARNING: An indication that something unexpected happened, or indicative of some problem in the near future.\n",
        "- ERROR: Due to a more serious problem, the software has not been able to perform some function.\n",
        "- CRITICAL: A serious error, indicating that the program itself may be unable to continue running.\n"
      ],
      "metadata": {
        "id": "aYesN-8ddTEw"
      }
    },
    {
      "cell_type": "markdown",
      "source": [
        "18. What is the difference between os.fork() and multiprocessing in Python ?\n",
        "\n",
        "-> os.fork() and multiprocessing are two different ways to create multiple processes in Python. Here's a brief overview of each:\n",
        "\n",
        "-> os.fork():\n",
        "\n",
        "- os.fork() is a low-level system call that creates a new process by duplicating the current process. The new process, called the child process, is a copy of the parent process and shares the same memory space. However, any changes made to the memory by the child process do not affect the parent process.\n",
        "\n",
        "->multiprocessing:   \n",
        "\n",
        "- The multiprocessing module is a higher-level interface for creating multiple processes. It provides a way to create multiple processes that can run concurrently, and it handles the details of process creation and communication.\n",
        "\n",
        "-> Key differences:\n",
        "\n",
        "-> Here are the key differences between os.fork() and multiprocessing:\n",
        "\n",
        "- Process creation: os.fork() creates a new process by duplicating the current process, while multiprocessing creates a new process from scratch.\n",
        "- Memory sharing: os.fork() shares the same memory space between the parent and child processes, while multiprocessing creates separate memory spaces for each process.\n",
        "- Communication: os.fork() requires manual communication between processes using pipes, sockets, or shared memory, while multiprocessing provides built-in support for communication between processes using queues, pipes, and shared memory.\n",
        "- Ease of use: multiprocessing is generally easier to use than os.fork(), as it provides a higher-level interface and handles many of the details of process creation and communication.\n",
        "- Portability: multiprocessing is more portable than os.fork(), as it works on multiple platforms, including Windows, macOS, and Linux."
      ],
      "metadata": {
        "id": "HPTHa0N7dq3_"
      }
    },
    {
      "cell_type": "markdown",
      "source": [
        "19. What is the importance of closing a file in Python ?\n",
        "\n",
        "-> Closing a file in Python is important for several reasons:\n",
        "\n",
        "-  Releasing System Resources: When you open a file, Python allocates system resources, such as file descriptors, memory, and disk space. Closing the file releases these resources, making them available for other processes.\n",
        "- Preventing Resource Leaks: If you don't close a file, the resources allocated to it will remain occupied, leading to resource leaks. This can cause problems, especially when working with large files or in environments with limited resources.\n",
        "- Ensuring Data Integrity: Closing a file ensures that any buffered data is written to the file. If you don't close the file, data may be lost or corrupted.\n",
        "- Allowing Other Processes to Access the File: When a file is open, other processes may not be able to access it. Closing the file allows other processes to access and modify the file.\n",
        "- Improving Program Performance: Closing files can improve program performance by reducing the number of open files and releasing system resources.\n",
        "- Preventing File Locking Issues: Closing files can prevent file locking issues, where a file remains locked by a process, preventing other processes from accessing it.\n"
      ],
      "metadata": {
        "id": "YyuMNAeX2GZ_"
      }
    },
    {
      "cell_type": "markdown",
      "source": [
        "20. What is the difference between file.read() and file.readline() in Python ?\n",
        "\n",
        "-> In Python, file.read() and file.readline() are two different methods used to read data from a file. Here's a brief overview of each:\n",
        "\n",
        "-> file.read():\n",
        "\n",
        "- file.read() reads the entire contents of a file into a string. It returns a string containing all the characters in the file. If the file is empty, it returns an empty string.\n",
        "\n",
        "-> file.readline():\n",
        "\n",
        "- file.readline() reads a single line from a file and returns it as a string. It includes the newline character (\\n) at the end of the line. If the end of the file is reached, it returns an empty string.\n",
        "\n",
        "->Key differences\n",
        "\n",
        "Here are the key differences between file.read() and file.readline():\n",
        "\n",
        "- Amount of data read: file.read() reads the entire file, while file.readline() reads a single line.\n",
        "- Return value: file.read() returns a string containing all the characters in the file, while file.readline() returns a string containing a single line.\n",
        "- Newline characters: file.readline() includes the newline character (\\n) at the end of the line, while file.read() does not.\n",
        "- Performance: file.readline() is generally faster and more memory-efficient than file.read(), especially for large files."
      ],
      "metadata": {
        "id": "HZd-hvsi2hal"
      }
    },
    {
      "cell_type": "markdown",
      "source": [
        "21. What is the logging module in Python used for ?\n",
        "\n",
        "->The logging module in Python is a built-in module that allows you to log events in your program. Logging is the process of recording events that occur during the execution of a program, such as errors, warnings, or informational messages.\n",
        "\n",
        "-> Some common use cases for the logging module include:\n",
        "\n",
        "- Debugging: Logging can be used to debug programs by recording events and errors that occur during execution.\n",
        "- Error reporting: Logging can be used to report errors and exceptions that occur during program execution.\n",
        "- Auditing: Logging can be used to record important events or transactions, such as user logins or financial transactions.\n",
        "- Performance monitoring: Logging can be used to record performance metrics, such as execution time or memory usage."
      ],
      "metadata": {
        "id": "e8RBuwsY3SMd"
      }
    },
    {
      "cell_type": "markdown",
      "source": [
        "22.  What is the os module in Python used for in file handling ?\n",
        "\n",
        "-> The os module in Python provides a way to interact with the operating system and file system. In the context of file handling, the os module is used for various tasks, including:\n",
        "\n",
        "-  Creating and deleting directories: The os module provides functions to create (os.mkdir()) and delete (os.rmdir()) directories.\n",
        "-  Changing the current working directory: The os.chdir() function changes the current working directory to a specified path.\n",
        "- Getting the current working directory: The os.getcwd() function returns the current working directory.\n",
        "- Listing directory contents: The os.listdir() function returns a list of files and directories in a specified directory.\n",
        "- Checking if a file or directory exists: The os.path.exists() function checks if a file or directory exists.\n",
        "- Checking if a file or directory is a file or directory: The os.path.isfile() and os.path.isdir() functions check if a path is a file or directory, respectively.\n",
        "- Joining paths: The os.path.join() function joins multiple paths together to form a single path.\n",
        "- Splitting paths: The os.path.split() function splits a path into its components.\n",
        "- Getting file information: The os.stat() function returns information about a file, such as its size, modification time, and ownership."
      ],
      "metadata": {
        "id": "TMLVfDi_4BtF"
      }
    },
    {
      "cell_type": "markdown",
      "source": [
        "23. What are the challenges associated with memory management in Python ?\n",
        "\n",
        "-> Python's memory management is generally handled automatically by the Python interpreter, which makes it easier for developers to focus on writing code rather than worrying about memory management. However, there are still some challenges associated with memory management in Python:\n",
        "\n",
        "-> Challenges:\n",
        "\n",
        "- Memory Leaks\n",
        "\n",
        "Memory leaks occur when objects are no longer needed but still occupy memory. Python's garbage collector can help prevent memory leaks, but it's not foolproof.\n",
        "\n",
        "- Reference Cycles\n",
        "\n",
        "Reference cycles occur when two or more objects reference each other, preventing the garbage collector from freeing up memory.\n",
        "\n",
        "- Large Objects\n",
        "\n",
        "Large objects, such as lists or dictionaries, can consume a significant amount of memory. If not managed properly, they can lead to memory-related issues.\n",
        "\n",
        "- Memory Fragmentation\n",
        "\n",
        "Memory fragmentation occurs when free memory is broken into small, non-contiguous blocks, making it difficult to allocate large blocks of memory.\n",
        "\n",
        "- Garbage Collection Pauses\n",
        "\n",
        "Python's garbage collector periodically runs to free up memory. However, this can cause pauses in the program, which can be problematic for real-time applications.\n",
        "\n",
        "- Limited Control\n",
        "\n",
        "Python's automatic memory management means that developers have limited control over memory allocation and deallocation.\n",
        "\n",
        "- Non-Deterministic Behavior\n",
        "\n",
        "Python's garbage collector can exhibit non-deterministic behavior, making it challenging to predict when and how memory will be freed.\n"
      ],
      "metadata": {
        "id": "2-HMMkuB-poB"
      }
    },
    {
      "cell_type": "markdown",
      "source": [
        "24.  How do you raise an exception manually in Python ?\n",
        "->In Python, you can raise an exception manually using the raise keyword. Here's the basic syntax:\n",
        "- raise Exception(\"Error message\")\n",
        "- We can replace Exception with any built-in or custom exception class.\n",
        "\n",
        "-> Built-in Exceptions\n",
        "\n",
        "-  Python has several built-in exception classes that you can use to raise exceptions. Here are some examples:\n",
        "\n",
        "\n",
        " - #Raise a ValueError   \n",
        "- raise ValueError(\"Invalid input\")\n",
        "\n",
        " - #Raise a TypeError    \n",
        "- raise TypeError(\"Invalid data type\")\n",
        "\n",
        "- #Raise a RuntimeError\n",
        " - raise RuntimeError(\"An error occurred during execution\")\n",
        "\n",
        "\n",
        "-> Custom Exceptions\n",
        "\n",
        " - We can also create custom exception classes by inheriting from the base Exception class:\n",
        "class CustomException(Exception):    \n",
        "    pass\n",
        "\n",
        "- #Raise the custom exception    \n",
        " - raise CustomException(\"A custom error occurred\")\n",
        "\n",
        "\n",
        "-> Raising Exceptions with Additional Information\n",
        "\n",
        " - We  can also pass additional information when raising an exception:\n",
        " -#Raise an exception with additional information\n",
        "raise ValueError(\"Invalid input: {}\".format(\"Invalid data\"))\n"
      ],
      "metadata": {
        "id": "IzAhgPLs_JWp"
      }
    },
    {
      "cell_type": "markdown",
      "source": [
        "25. Why is it important to use multithreading in certain applications?\n",
        "->  Multithreading is important in certain applications because it allows for the concurrent execution of multiple tasks within a single program, significantly improving performance and responsiveness by utilizing the CPU more efficiently, especially on multi-core systems, where different threads can run simultaneously on different cores, leading to faster overall application execution.\n",
        "\n",
        "->Key reasons to use multithreading:\n",
        "\n",
        "->Improved responsiveness:\n",
        "\n",
        "While one thread is waiting for input from the user or a network operation, other threads can continue processing, preventing the application from appearing unresponsive.\n",
        "\n",
        "->Better CPU utilization:  \n",
        "\n",
        "By dividing tasks into multiple threads, a program can take advantage of multiple CPU cores, maximizing the processing power available.\n",
        "\n",
        "->Parallel processing for I/O bound tasks:\n",
        "\n",
        "When an application is performing many input/output operations (like network requests or disk access), multithreading allows the CPU to work on other tasks while waiting for I/O operations to complete.\n",
        "\n",
        "-> Enhanced scalability:\n",
        "\n",
        "As the number of available CPU cores increases, multithreaded applications can scale efficiently to handle heavier workloads."
      ],
      "metadata": {
        "id": "GrzYrMhxA6YZ"
      }
    },
    {
      "cell_type": "markdown",
      "source": [
        "PRACTICAL QUESTIONS"
      ],
      "metadata": {
        "id": "hMq0eZt3CCux"
      }
    },
    {
      "cell_type": "markdown",
      "source": [
        "1.  How can you open a file for writing in Python and write a string to it ?"
      ],
      "metadata": {
        "id": "RaxOM087CRmS"
      }
    },
    {
      "cell_type": "code",
      "source": [
        "filename = 'example.txt'\n",
        "string_to_write = 'Hello, World!'\n",
        "\n",
        "with open(filename, 'w') as file:\n",
        "    file.write(string_to_write)\n",
        "\n",
        "print(f\"String '{string_to_write}' written to {filename} successfully!\")\n",
        "\n"
      ],
      "metadata": {
        "id": "EkDL5a4cSciv",
        "colab": {
          "base_uri": "https://localhost:8080/"
        },
        "outputId": "fa5e7f39-50af-4add-9614-90780a87bb95"
      },
      "execution_count": 1,
      "outputs": [
        {
          "output_type": "stream",
          "name": "stdout",
          "text": [
            "String 'Hello, World!' written to example.txt successfully!\n"
          ]
        }
      ]
    },
    {
      "cell_type": "markdown",
      "source": [
        "2. Write a Python program to read the contents of a file and print each line."
      ],
      "metadata": {
        "id": "yBlRNW1tkuSk"
      }
    },
    {
      "cell_type": "code",
      "source": [
        "filename = 'example.txt'\n",
        "\n",
        "with open(filename, 'r') as file:\n",
        "    for line in file:\n",
        "        print(line.strip())"
      ],
      "metadata": {
        "colab": {
          "base_uri": "https://localhost:8080/"
        },
        "id": "HrlAh22Vksd7",
        "outputId": "57688154-8589-4f3b-9969-c05d68cec7cc"
      },
      "execution_count": 2,
      "outputs": [
        {
          "output_type": "stream",
          "name": "stdout",
          "text": [
            "Hello, World!\n"
          ]
        }
      ]
    },
    {
      "cell_type": "markdown",
      "source": [
        "3. How would you handle a case where the file doesn't exist while trying to open it for reading ?"
      ],
      "metadata": {
        "id": "aEP4wRkVoGzZ"
      }
    },
    {
      "cell_type": "code",
      "source": [
        "filename = 'example.txt'\n",
        "\n",
        "try:\n",
        "    with open(filename, 'r') as file:\n",
        "        for line in file:\n",
        "            print(line.strip())\n",
        "except FileNotFoundError:\n",
        "    print(f\"File '{filename}' not found.\")"
      ],
      "metadata": {
        "colab": {
          "base_uri": "https://localhost:8080/"
        },
        "id": "kyyFudwcoFIy",
        "outputId": "b819a234-40cf-4276-e659-1909b1530169"
      },
      "execution_count": 3,
      "outputs": [
        {
          "output_type": "stream",
          "name": "stdout",
          "text": [
            "Hello, World!\n"
          ]
        }
      ]
    },
    {
      "cell_type": "markdown",
      "source": [
        "4. Write a Python script that reads from one file and writes its content to another file."
      ],
      "metadata": {
        "id": "9it9Ik5OodqF"
      }
    },
    {
      "cell_type": "code",
      "source": [
        "input_filename = 'input.txt'\n",
        "output_filename = 'output.txt'\n",
        "\n",
        "try:\n",
        "\n",
        "    with open(input_filename, 'r') as input_file, open(output_filename, 'w') as output_file:\n",
        "        output_file.write(input_file.read())\n",
        "    print(f\"Content copied from '{input_filename}' to '{output_filename}' successfully.\")\n",
        "\n",
        "except FileNotFoundError:\n",
        "    print(f\"File '{input_filename}' not found.\")\n",
        "\n",
        "except Exception as e:\n",
        "    print(f\"An error occurred: {e}\")"
      ],
      "metadata": {
        "id": "xcVzOIpZob0Y"
      },
      "execution_count": null,
      "outputs": []
    },
    {
      "cell_type": "markdown",
      "source": [
        "5.  How would you catch and handle division by zero error in Python ?"
      ],
      "metadata": {
        "id": "2hedrfs0pI_8"
      }
    },
    {
      "cell_type": "code",
      "source": [
        "def divide(a, b):\n",
        "    try:\n",
        "        result = a / b\n",
        "        print(f\"{a} divided by {b} is {result}\")\n",
        "    except ZeroDivisionError:\n",
        "        print(\"Error: Division by zero is not allowed.\")\n",
        "\n",
        "# Test the function\n",
        "divide(10, 2)\n",
        "divide(10, 0)"
      ],
      "metadata": {
        "colab": {
          "base_uri": "https://localhost:8080/"
        },
        "id": "ypJ0bUO4pPf2",
        "outputId": "e23819fc-b33c-471e-e4b0-517308192cf1"
      },
      "execution_count": 4,
      "outputs": [
        {
          "output_type": "stream",
          "name": "stdout",
          "text": [
            "10 divided by 2 is 5.0\n",
            "Error: Division by zero is not allowed.\n"
          ]
        }
      ]
    },
    {
      "cell_type": "markdown",
      "source": [
        "6. Write a Python program that logs an error message to a log file when a division by zero exception occurs."
      ],
      "metadata": {
        "id": "hLO9xaZipeEs"
      }
    },
    {
      "cell_type": "code",
      "source": [
        "import logging\n",
        "\n",
        "# Set up logging configuration\n",
        "logging.basicConfig(filename='error.log', level=logging.ERROR)\n",
        "\n",
        "def divide(a, b):\n",
        "    try:\n",
        "        result = a / b\n",
        "        print(f\"{a} divided by {b} is {result}\")\n",
        "    except ZeroDivisionError:\n",
        "        logging.error(\"Division by zero error occurred.\", exc_info=True)\n",
        "\n",
        "\n",
        "divide(10, 2)\n",
        "divide(10, 0)"
      ],
      "metadata": {
        "id": "1icrTWjCplvy"
      },
      "execution_count": null,
      "outputs": []
    },
    {
      "cell_type": "markdown",
      "source": [
        "7.  How do you log information at different levels (INFO, ERROR, WARNING) in Python using the logging module ?"
      ],
      "metadata": {
        "id": "TU4EhSrYp0Ei"
      }
    },
    {
      "cell_type": "code",
      "source": [
        "\n",
        "\n",
        "# Set up logging configuration\n",
        "logging.basicConfig(level=logging.DEBUG)\n",
        "\n",
        "# Log messages at different levels\n",
        "logging.debug(\"This is a debug message.\")\n",
        "logging.info(\"This is an info message.\")\n",
        "logging.warning(\"This is a warning message.\")\n",
        "logging.error(\"This is an error message.\")\n",
        "logging.critical(\"This is a critical message.\")\n"
      ],
      "metadata": {
        "colab": {
          "base_uri": "https://localhost:8080/"
        },
        "id": "7Xt8kgnMp6mP",
        "outputId": "10a79763-311a-4794-c687-956e9c8fd0eb"
      },
      "execution_count": 14,
      "outputs": [
        {
          "output_type": "stream",
          "name": "stderr",
          "text": [
            "WARNING:root:This is a warning message.\n",
            "ERROR:root:This is an error message.\n",
            "CRITICAL:root:This is a critical message.\n"
          ]
        }
      ]
    },
    {
      "cell_type": "markdown",
      "source": [
        "8. Write a program to handle a file opening error using exception handling."
      ],
      "metadata": {
        "id": "NxU9HLxZqMQ8"
      }
    },
    {
      "cell_type": "code",
      "source": [
        "def read_file(filename):\n",
        "    try:\n",
        "        with open(filename, 'r') as file:\n",
        "            content = file.read()\n",
        "            print(content)\n",
        "    except FileNotFoundError:\n",
        "        print(f\"File '{filename}' not found.\")\n",
        "    except PermissionError:\n",
        "        print(f\"Permission denied to open file '{filename}'.\")\n",
        "    except Exception as e:\n",
        "        print(f\"An error occurred: {e}\")\n",
        "\n",
        "# Test the function\n",
        "filename = 'example.txt'\n",
        "read_file(filename)\n"
      ],
      "metadata": {
        "colab": {
          "base_uri": "https://localhost:8080/"
        },
        "id": "LCIWUaJhqP5n",
        "outputId": "ae0e88c1-9a55-4fbe-d419-e5c6de8476b1"
      },
      "execution_count": 7,
      "outputs": [
        {
          "output_type": "stream",
          "name": "stdout",
          "text": [
            "Hello, World!\n"
          ]
        }
      ]
    },
    {
      "cell_type": "markdown",
      "source": [
        "9. How can you read a file line by line and store its content in a list in Python ?"
      ],
      "metadata": {
        "id": "bZMKuWc5qYx6"
      }
    },
    {
      "cell_type": "code",
      "source": [
        "def read_file(filename):\n",
        "    try:\n",
        "        with open(filename, 'r') as file:\n",
        "            content = file.readlines()\n",
        "            content = [line.strip() for line in content]\n",
        "        return content\n",
        "    except FileNotFoundError:\n",
        "        print(f\"File '{filename}' not found.\")\n",
        "        return []\n",
        "\n",
        "# Test the function\n",
        "filename = 'example.txt'\n",
        "lines = read_file(filename)\n",
        "print(lines)\n"
      ],
      "metadata": {
        "colab": {
          "base_uri": "https://localhost:8080/"
        },
        "id": "gL6KFkXpqdMt",
        "outputId": "293b965c-6392-4999-e1f1-8dab82dcf71e"
      },
      "execution_count": 8,
      "outputs": [
        {
          "output_type": "stream",
          "name": "stdout",
          "text": [
            "['Hello, World!']\n"
          ]
        }
      ]
    },
    {
      "cell_type": "markdown",
      "source": [
        "10.  How can you append data to an existing file in Python ?"
      ],
      "metadata": {
        "id": "_ZjrXcLzqsy7"
      }
    },
    {
      "cell_type": "code",
      "source": [
        "def append_to_file(filename, data):\n",
        "    try:\n",
        "        with open(filename, 'a') as file:\n",
        "            file.write(data + '\\n')\n",
        "        print(f\"Data appended to {filename} successfully.\")\n",
        "    except Exception as e:\n",
        "        print(f\"An error occurred: {e}\")\n",
        "\n",
        "\n",
        "filename = 'example.txt'\n",
        "data = 'Hello, World!'\n",
        "append_to_file(filename, data)"
      ],
      "metadata": {
        "colab": {
          "base_uri": "https://localhost:8080/"
        },
        "id": "QXyEEmXDqw2u",
        "outputId": "3328268b-1747-4c63-c2b2-aa82b49870d4"
      },
      "execution_count": 9,
      "outputs": [
        {
          "output_type": "stream",
          "name": "stdout",
          "text": [
            "Data appended to example.txt successfully.\n"
          ]
        }
      ]
    },
    {
      "cell_type": "markdown",
      "source": [
        "11. Write a Python program that uses a try-except block to handle an error when attempting to access a\n",
        "dictionary key that doesn't exist."
      ],
      "metadata": {
        "id": "FW0gxb1sq9Fe"
      }
    },
    {
      "cell_type": "code",
      "source": [
        "def access_dict_key(dictionary, key):\n",
        "    try:\n",
        "        value = dictionary[key]\n",
        "        print(f\"The value of '{key}' is: {value}\")\n",
        "    except KeyError:\n",
        "        print(f\"Error: Key '{key}' not found in the dictionary.\")\n",
        "\n",
        "# Test the function\n",
        "my_dict = {\"name\": \"John\", \"age\": 30}\n",
        "access_dict_key(my_dict, \"name\")  # Output: The value of 'name' is: John\n",
        "access_dict_key(my_dict, \"city\")  # Output: Error: Key 'city' not found in the dictionary."
      ],
      "metadata": {
        "colab": {
          "base_uri": "https://localhost:8080/"
        },
        "id": "wpp4rAwJrZ1P",
        "outputId": "82f338c8-b577-4414-87af-900c27343290"
      },
      "execution_count": 10,
      "outputs": [
        {
          "output_type": "stream",
          "name": "stdout",
          "text": [
            "The value of 'name' is: John\n",
            "Error: Key 'city' not found in the dictionary.\n"
          ]
        }
      ]
    },
    {
      "cell_type": "markdown",
      "source": [
        "12. Write a program that demonstrates using multiple except blocks to handle different types of exceptions."
      ],
      "metadata": {
        "id": "aZrWbK1jrwk8"
      }
    },
    {
      "cell_type": "code",
      "source": [
        "def divide_numbers(num1, num2):\n",
        "    try:\n",
        "        result = num1 / num2\n",
        "        print(f\"{num1} divided by {num2} is {result}\")\n",
        "    except ZeroDivisionError:\n",
        "        print(\"Error: Division by zero is not allowed.\")\n",
        "    except TypeError:\n",
        "        print(\"Error: Both inputs must be numbers.\")\n",
        "    except Exception as e:\n",
        "        print(f\"An unexpected error occurred: {e}\")\n",
        "\n",
        "\n",
        "divide_numbers(10, 2)\n",
        "divide_numbers(10, 0)\n",
        "divide_numbers(10, 'a')"
      ],
      "metadata": {
        "colab": {
          "base_uri": "https://localhost:8080/"
        },
        "id": "TBfXxU2wryxg",
        "outputId": "c18e7546-ce71-4f1d-b0fa-01cbe19ee3a4"
      },
      "execution_count": 11,
      "outputs": [
        {
          "output_type": "stream",
          "name": "stdout",
          "text": [
            "10 divided by 2 is 5.0\n",
            "Error: Division by zero is not allowed.\n",
            "Error: Both inputs must be numbers.\n"
          ]
        }
      ]
    },
    {
      "cell_type": "markdown",
      "source": [
        "13. How would you check if a file exists before attempting to read it in Python ?"
      ],
      "metadata": {
        "id": "0lwLjqFor5Jl"
      }
    },
    {
      "cell_type": "code",
      "source": [
        "import os\n",
        "\n",
        "def check_file_exists(filename):\n",
        "    if os.path.exists(filename):\n",
        "        print(f\"File '{filename}' exists.\")\n",
        "        # Attempt to read the file\n",
        "        with open(filename, 'r') as file:\n",
        "            content = file.read()\n",
        "            print(content)\n",
        "    else:\n",
        "        print(f\"File '{filename}' does not exist.\")\n",
        "\n",
        "# Test the function\n",
        "filename = 'example.txt'\n",
        "check_file_exists(filename)"
      ],
      "metadata": {
        "colab": {
          "base_uri": "https://localhost:8080/"
        },
        "id": "5pIKoN_ar_Zw",
        "outputId": "745dedc2-515f-47e3-b542-7c2462429e59"
      },
      "execution_count": 12,
      "outputs": [
        {
          "output_type": "stream",
          "name": "stdout",
          "text": [
            "File 'example.txt' exists.\n",
            "Hello, World!Hello, World!\n",
            "\n"
          ]
        }
      ]
    },
    {
      "cell_type": "markdown",
      "source": [
        "14. Write a program that uses the logging module to log both informational and error messages ."
      ],
      "metadata": {
        "id": "bfPLAVOjsIOh"
      }
    },
    {
      "cell_type": "code",
      "source": [
        "\n",
        "\n",
        "# Set up logging configuration\n",
        "logging.basicConfig(filename='app.log', level=logging.INFO, format='%(asctime)s - %(levelname)s - %(message)s')\n",
        "\n",
        "def divide_numbers(num1, num2):\n",
        "    try:\n",
        "        result = num1 / num2\n",
        "        logging.info(f\"Division successful: {num1} / {num2} = {result}\")\n",
        "        print(f\"{num1} divided by {num2} is {result}\")\n",
        "    except ZeroDivisionError:\n",
        "        logging.error(\"Division by zero error occurred.\")\n",
        "        print(\"Error: Division by zero is not allowed.\")\n",
        "\n",
        "# Test the function\n",
        "divide_numbers(10, 2)\n",
        "divide_numbers(10, 0)\n"
      ],
      "metadata": {
        "colab": {
          "base_uri": "https://localhost:8080/"
        },
        "id": "_zdmkYs8sNp3",
        "outputId": "10137202-38d1-4c13-87cd-393bef393c77"
      },
      "execution_count": 13,
      "outputs": [
        {
          "output_type": "stream",
          "name": "stderr",
          "text": [
            "ERROR:root:Division by zero error occurred.\n"
          ]
        },
        {
          "output_type": "stream",
          "name": "stdout",
          "text": [
            "10 divided by 2 is 5.0\n",
            "Error: Division by zero is not allowed.\n"
          ]
        }
      ]
    },
    {
      "cell_type": "markdown",
      "source": [
        "15. Write a Python program that prints the content of a file and handles the case when the file is empty."
      ],
      "metadata": {
        "id": "rShoYnmssnFT"
      }
    },
    {
      "cell_type": "code",
      "source": [
        "def print_file_content(filename):\n",
        "    try:\n",
        "        with open(filename, 'r') as file:\n",
        "            content = file.read()\n",
        "            if content.strip() == \"\":\n",
        "                print(f\"File '{filename}' is empty.\")\n",
        "            else:\n",
        "                print(f\"Content of file '{filename}':\\n{content}\")\n",
        "    except FileNotFoundError:\n",
        "        print(f\"File '{filename}' not found.\")\n",
        "\n",
        "# Test the function\n",
        "filename = 'example.txt'\n",
        "print_file_content(filename)"
      ],
      "metadata": {
        "colab": {
          "base_uri": "https://localhost:8080/"
        },
        "id": "YkGwL1y3swku",
        "outputId": "bc88f381-4eb5-450f-c795-61aa3de81d35"
      },
      "execution_count": 15,
      "outputs": [
        {
          "output_type": "stream",
          "name": "stdout",
          "text": [
            "Content of file 'example.txt':\n",
            "Hello, World!Hello, World!\n",
            "\n"
          ]
        }
      ]
    },
    {
      "cell_type": "markdown",
      "source": [
        "17. Write a Python program to create and write a list of numbers to a file, one number per line."
      ],
      "metadata": {
        "id": "UyRt_89ZtP8j"
      }
    },
    {
      "cell_type": "code",
      "source": [
        "def write_numbers_to_file(filename, numbers):\n",
        "    try:\n",
        "        with open(filename, 'w') as file:\n",
        "            for number in numbers:\n",
        "                file.write(str(number) + '\\n')\n",
        "        print(f\"Numbers written to {filename} successfully.\")\n",
        "    except Exception as e:\n",
        "        print(f\"An error occurred: {e}\")\n",
        "\n",
        "numbers = list(range(1, 11))\n",
        "\n",
        "filename = 'numbers.txt'\n",
        "\n",
        "write_numbers_to_file(filename, numbers)"
      ],
      "metadata": {
        "colab": {
          "base_uri": "https://localhost:8080/"
        },
        "id": "nRQzFhZHs8yg",
        "outputId": "817ffbaf-fadf-46af-8af9-240a14f55d5c"
      },
      "execution_count": 16,
      "outputs": [
        {
          "output_type": "stream",
          "name": "stdout",
          "text": [
            "Numbers written to numbers.txt successfully.\n"
          ]
        }
      ]
    },
    {
      "cell_type": "markdown",
      "source": [
        "18. How would you implement a basic logging setup that logs to a file with rotation after 1MB ?\n"
      ],
      "metadata": {
        "id": "QHSmUhEZtmj7"
      }
    },
    {
      "cell_type": "code",
      "source": [
        "from logging.handlers import RotatingFileHandler\n",
        "\n",
        "# Set up logging configuration\n",
        "logger = logging.getLogger()\n",
        "logger.setLevel(logging.INFO)\n",
        "\n",
        "# Create a rotating file handler\n",
        "handler = RotatingFileHandler('app.log', maxBytes=1024*1024, backupCount=5)\n",
        "handler.setLevel(logging.INFO)\n",
        "\n",
        "# Create a formatter and attach it to the handler\n",
        "formatter = logging.Formatter('%(asctime)s - %(name)s - %(levelname)s - %(message)s')\n",
        "handler.setFormatter(formatter)\n",
        "\n",
        "# Add the handler to the logger\n",
        "logger.addHandler(handler)\n",
        "\n",
        "# Test the logging setup\n",
        "logger.info('This is an info message.')\n",
        "logger.warning('This is a warning message.')\n",
        "logger.error('This is an error message.')\n",
        "logger.critical('This is a critical message.')"
      ],
      "metadata": {
        "colab": {
          "base_uri": "https://localhost:8080/"
        },
        "id": "U6HngPyjtsKF",
        "outputId": "0e727ce8-0011-4119-851e-36237ff37ebf"
      },
      "execution_count": 17,
      "outputs": [
        {
          "output_type": "stream",
          "name": "stderr",
          "text": [
            "INFO:root:This is an info message.\n",
            "WARNING:root:This is a warning message.\n",
            "ERROR:root:This is an error message.\n",
            "CRITICAL:root:This is a critical message.\n"
          ]
        }
      ]
    },
    {
      "cell_type": "markdown",
      "source": [
        "19. Write a program that handles both IndexError and KeyError using a try-except block"
      ],
      "metadata": {
        "id": "YH9KlnjX2v4b"
      }
    },
    {
      "cell_type": "code",
      "source": [
        "def access_data(data, index, key):\n",
        "    try:\n",
        "        value = data[index][key]\n",
        "        print(f\"Value at index {index} with key '{key}': {value}\")\n",
        "    except IndexError:\n",
        "        print(f\"Error: Index {index} out of range.\")\n",
        "    except KeyError:\n",
        "        print(f\"Error: Key '{key}' not found in the dictionary.\")\n",
        "    except Exception as e:\n",
        "        print(f\"An unexpected error occurred: {e}\")\n",
        "\n",
        "# Test the function with a list of dictionaries\n",
        "data = [\n",
        "    {\"name\": \"John\", \"age\": 30},\n",
        "    {\"name\": \"Alice\", \"age\": 25}\n",
        "]\n",
        "\n",
        "access_data(data, 0, \"name\")\n",
        "access_data(data, 0, \"city\")\n",
        "access_data(data, 2, \"name\")\n"
      ],
      "metadata": {
        "colab": {
          "base_uri": "https://localhost:8080/"
        },
        "id": "hwwOXgEh20nP",
        "outputId": "ac82ee7a-79ac-43c4-ac20-b14bf4aa1c59"
      },
      "execution_count": 18,
      "outputs": [
        {
          "output_type": "stream",
          "name": "stdout",
          "text": [
            "Value at index 0 with key 'name': John\n",
            "Error: Key 'city' not found in the dictionary.\n",
            "Error: Index 2 out of range.\n"
          ]
        }
      ]
    },
    {
      "cell_type": "markdown",
      "source": [
        "20. How would you open a file and read its contents using a context manager in Python ?"
      ],
      "metadata": {
        "id": "3vBYyGLB2_IN"
      }
    },
    {
      "cell_type": "code",
      "source": [
        "def read_file_contents(filename):\n",
        "    try:\n",
        "        with open(filename, 'r') as file:\n",
        "            contents = file.read()\n",
        "            print(contents)\n",
        "    except FileNotFoundError:\n",
        "        print(f\"File '{filename}' not found.\")\n",
        "    except Exception as e:\n",
        "        print(f\"An error occurred: {e}\")\n",
        "\n",
        "# Test the function\n",
        "filename = 'example.txt'\n",
        "read_file_contents(filename)"
      ],
      "metadata": {
        "colab": {
          "base_uri": "https://localhost:8080/"
        },
        "id": "vVI1xl0e3Fg3",
        "outputId": "d4d321fe-8659-4aa8-f5e0-cf5c900ae76f"
      },
      "execution_count": 19,
      "outputs": [
        {
          "output_type": "stream",
          "name": "stdout",
          "text": [
            "Hello, World!Hello, World!\n",
            "\n"
          ]
        }
      ]
    },
    {
      "cell_type": "markdown",
      "source": [
        "21.  Write a Python program that reads a file and prints the number of occurrences of a specific word"
      ],
      "metadata": {
        "id": "RPhf5rWv3RJa"
      }
    },
    {
      "cell_type": "code",
      "source": [
        "def count_word_occurrences(filename, word):\n",
        "    try:\n",
        "        with open(filename, 'r') as file:\n",
        "            content = file.read().lower().split()\n",
        "            occurrences = content.count(word.lower())\n",
        "            print(f\"The word '{word}' occurs {occurrences} times in the file.\")\n",
        "    except FileNotFoundError:\n",
        "        print(f\"File '{filename}' not found.\")\n",
        "    except Exception as e:\n",
        "        print(f\"An error occurred: {e}\")\n",
        "\n",
        "# Test the function\n",
        "filename = 'example.txt'\n",
        "word = 'the'\n",
        "count_word_occurrences(filename, word)\n",
        "\n"
      ],
      "metadata": {
        "colab": {
          "base_uri": "https://localhost:8080/"
        },
        "id": "0KH5KViB3Ved",
        "outputId": "90c49236-add1-4180-97c7-c76154c88c07"
      },
      "execution_count": 20,
      "outputs": [
        {
          "output_type": "stream",
          "name": "stdout",
          "text": [
            "The word 'the' occurs 0 times in the file.\n"
          ]
        }
      ]
    },
    {
      "cell_type": "markdown",
      "source": [
        "22. How can you check if a file is empty before attempting to read its contents ?"
      ],
      "metadata": {
        "id": "PSckfLko3pqi"
      }
    },
    {
      "cell_type": "code",
      "source": [
        "import os\n",
        "\n",
        "def is_file_empty(filename):\n",
        "    return os.path.getsize(filename) == 0\n",
        "\n",
        "filename = 'example.txt'\n",
        "if is_file_empty(filename):\n",
        "    print(f\"File '{filename}' is empty.\")\n",
        "else:\n",
        "    with open(filename, 'r') as file:\n",
        "        content = file.read()\n",
        "        print(content)"
      ],
      "metadata": {
        "colab": {
          "base_uri": "https://localhost:8080/"
        },
        "id": "RGdIRlR_3uuj",
        "outputId": "af1abfac-d5ae-4b49-cad2-7f2e21e5208a"
      },
      "execution_count": 21,
      "outputs": [
        {
          "output_type": "stream",
          "name": "stdout",
          "text": [
            "Hello, World!Hello, World!\n",
            "\n"
          ]
        }
      ]
    },
    {
      "cell_type": "markdown",
      "source": [
        "23. Write a Python program that writes to a log file when an error occurs during file handling."
      ],
      "metadata": {
        "id": "SsbAQerN35J7"
      }
    },
    {
      "cell_type": "code",
      "source": [
        "logging.basicConfig(filename='error.log', level=logging.ERROR, format='%(asctime)s - %(levelname)s - %(message)s')\n",
        "\n",
        "def read_file(filename):\n",
        "    try:\n",
        "        with open(filename, 'r') as file:\n",
        "            content = file.read()\n",
        "            print(content)\n",
        "    except FileNotFoundError:\n",
        "        logging.error(f\"File '{filename}' not found.\")\n",
        "    except PermissionError:\n",
        "        logging.error(f\"Permission denied to access file '{filename}'.\")\n",
        "    except Exception as e:\n",
        "        logging.error(f\"An error occurred: {e}\")\n",
        "\n",
        "def write_file(filename, content):\n",
        "    try:\n",
        "        with open(filename, 'w') as file:\n",
        "            file.write(content)\n",
        "    except PermissionError:\n",
        "        logging.error(f\"Permission denied to write to file '{filename}'.\")\n",
        "    except Exception as e:\n",
        "        logging.error(f\"An error occurred: {e}\")\n",
        "\n",
        "# Test the functions\n",
        "read_file('example.txt')\n",
        "write_file('example.txt', 'Hello, World!')\n"
      ],
      "metadata": {
        "colab": {
          "base_uri": "https://localhost:8080/"
        },
        "id": "pvE-gf3Y38WL",
        "outputId": "2489513b-4a18-4c8a-aa5c-fb7f60e42433"
      },
      "execution_count": 22,
      "outputs": [
        {
          "output_type": "stream",
          "name": "stdout",
          "text": [
            "Hello, World!Hello, World!\n",
            "\n"
          ]
        }
      ]
    }
  ]
}